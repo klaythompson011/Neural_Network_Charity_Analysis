{
 "cells": [
  {
   "cell_type": "markdown",
   "metadata": {},
   "source": [
    "### Deliverable 1: Preprocessing the Data for a Neural Network"
   ]
  },
  {
   "cell_type": "code",
   "execution_count": 2,
   "metadata": {},
   "outputs": [],
   "source": [
    "# import our dependencies\n",
    "import os\n",
    "import tensorflow as tf\n",
    "os.environ[\"TF_CPP_MIN_LOG_LEVEL\"]=\"3\"\n",
    "from sklearn.model_selection import train_test_split\n",
    "from sklearn.preprocessing import StandardScaler,OneHotEncoder\n",
    "import pandas as pd\n",
    "from tensorflow.keras.callbacks import ModelCheckpoint"
   ]
  },
  {
   "cell_type": "code",
   "execution_count": 3,
   "metadata": {},
   "outputs": [],
   "source": [
    "# define the checkpoint path and filename\n",
    "os.makedirs(\"checkpoints/\", exist_ok=True)\n",
    "checkpoint_path = \"checkpoints/weights_2.{epoch:02d}.hdf5\""
   ]
  },
  {
   "cell_type": "code",
   "execution_count": 4,
   "metadata": {},
   "outputs": [
    {
     "data": {
      "text/html": [
       "<div>\n",
       "<style scoped>\n",
       "    .dataframe tbody tr th:only-of-type {\n",
       "        vertical-align: middle;\n",
       "    }\n",
       "\n",
       "    .dataframe tbody tr th {\n",
       "        vertical-align: top;\n",
       "    }\n",
       "\n",
       "    .dataframe thead th {\n",
       "        text-align: right;\n",
       "    }\n",
       "</style>\n",
       "<table border=\"1\" class=\"dataframe\">\n",
       "  <thead>\n",
       "    <tr style=\"text-align: right;\">\n",
       "      <th></th>\n",
       "      <th>EIN</th>\n",
       "      <th>NAME</th>\n",
       "      <th>APPLICATION_TYPE</th>\n",
       "      <th>AFFILIATION</th>\n",
       "      <th>CLASSIFICATION</th>\n",
       "      <th>USE_CASE</th>\n",
       "      <th>ORGANIZATION</th>\n",
       "      <th>STATUS</th>\n",
       "      <th>INCOME_AMT</th>\n",
       "      <th>SPECIAL_CONSIDERATIONS</th>\n",
       "      <th>ASK_AMT</th>\n",
       "      <th>IS_SUCCESSFUL</th>\n",
       "    </tr>\n",
       "  </thead>\n",
       "  <tbody>\n",
       "    <tr>\n",
       "      <th>0</th>\n",
       "      <td>10520599</td>\n",
       "      <td>BLUE KNIGHTS MOTORCYCLE CLUB</td>\n",
       "      <td>T10</td>\n",
       "      <td>Independent</td>\n",
       "      <td>C1000</td>\n",
       "      <td>ProductDev</td>\n",
       "      <td>Association</td>\n",
       "      <td>1</td>\n",
       "      <td>0</td>\n",
       "      <td>N</td>\n",
       "      <td>5000</td>\n",
       "      <td>1</td>\n",
       "    </tr>\n",
       "    <tr>\n",
       "      <th>1</th>\n",
       "      <td>10531628</td>\n",
       "      <td>AMERICAN CHESAPEAKE CLUB CHARITABLE TR</td>\n",
       "      <td>T3</td>\n",
       "      <td>Independent</td>\n",
       "      <td>C2000</td>\n",
       "      <td>Preservation</td>\n",
       "      <td>Co-operative</td>\n",
       "      <td>1</td>\n",
       "      <td>1-9999</td>\n",
       "      <td>N</td>\n",
       "      <td>108590</td>\n",
       "      <td>1</td>\n",
       "    </tr>\n",
       "    <tr>\n",
       "      <th>2</th>\n",
       "      <td>10547893</td>\n",
       "      <td>ST CLOUD PROFESSIONAL FIREFIGHTERS</td>\n",
       "      <td>T5</td>\n",
       "      <td>CompanySponsored</td>\n",
       "      <td>C3000</td>\n",
       "      <td>ProductDev</td>\n",
       "      <td>Association</td>\n",
       "      <td>1</td>\n",
       "      <td>0</td>\n",
       "      <td>N</td>\n",
       "      <td>5000</td>\n",
       "      <td>0</td>\n",
       "    </tr>\n",
       "    <tr>\n",
       "      <th>3</th>\n",
       "      <td>10553066</td>\n",
       "      <td>SOUTHSIDE ATHLETIC ASSOCIATION</td>\n",
       "      <td>T3</td>\n",
       "      <td>CompanySponsored</td>\n",
       "      <td>C2000</td>\n",
       "      <td>Preservation</td>\n",
       "      <td>Trust</td>\n",
       "      <td>1</td>\n",
       "      <td>10000-24999</td>\n",
       "      <td>N</td>\n",
       "      <td>6692</td>\n",
       "      <td>1</td>\n",
       "    </tr>\n",
       "    <tr>\n",
       "      <th>4</th>\n",
       "      <td>10556103</td>\n",
       "      <td>GENETIC RESEARCH INSTITUTE OF THE DESERT</td>\n",
       "      <td>T3</td>\n",
       "      <td>Independent</td>\n",
       "      <td>C1000</td>\n",
       "      <td>Heathcare</td>\n",
       "      <td>Trust</td>\n",
       "      <td>1</td>\n",
       "      <td>100000-499999</td>\n",
       "      <td>N</td>\n",
       "      <td>142590</td>\n",
       "      <td>1</td>\n",
       "    </tr>\n",
       "  </tbody>\n",
       "</table>\n",
       "</div>"
      ],
      "text/plain": [
       "        EIN                                      NAME APPLICATION_TYPE  \\\n",
       "0  10520599              BLUE KNIGHTS MOTORCYCLE CLUB              T10   \n",
       "1  10531628    AMERICAN CHESAPEAKE CLUB CHARITABLE TR               T3   \n",
       "2  10547893        ST CLOUD PROFESSIONAL FIREFIGHTERS               T5   \n",
       "3  10553066            SOUTHSIDE ATHLETIC ASSOCIATION               T3   \n",
       "4  10556103  GENETIC RESEARCH INSTITUTE OF THE DESERT               T3   \n",
       "\n",
       "        AFFILIATION CLASSIFICATION      USE_CASE  ORGANIZATION  STATUS  \\\n",
       "0       Independent          C1000    ProductDev   Association       1   \n",
       "1       Independent          C2000  Preservation  Co-operative       1   \n",
       "2  CompanySponsored          C3000    ProductDev   Association       1   \n",
       "3  CompanySponsored          C2000  Preservation         Trust       1   \n",
       "4       Independent          C1000     Heathcare         Trust       1   \n",
       "\n",
       "      INCOME_AMT SPECIAL_CONSIDERATIONS  ASK_AMT  IS_SUCCESSFUL  \n",
       "0              0                      N     5000              1  \n",
       "1         1-9999                      N   108590              1  \n",
       "2              0                      N     5000              0  \n",
       "3    10000-24999                      N     6692              1  \n",
       "4  100000-499999                      N   142590              1  "
      ]
     },
     "execution_count": 4,
     "metadata": {},
     "output_type": "execute_result"
    }
   ],
   "source": [
    "# import and read the charity_data.csv\n",
    "import pandas as pd \n",
    "application_df = pd.read_csv(\"charity_data.csv\")\n",
    "application_df.head()"
   ]
  },
  {
   "cell_type": "code",
   "execution_count": 5,
   "metadata": {},
   "outputs": [],
   "source": [
    "# remove warning message\n",
    "import warnings\n",
    "warnings.filterwarnings('ignore')\n",
    "\n",
    "# drop the non-beneficial ID columns\n",
    "application_df = application_df.drop([\"EIN\", \"NAME\", \"STATUS\", \"SPECIAL_CONSIDERATIONS\"], 1)"
   ]
  },
  {
   "cell_type": "code",
   "execution_count": 6,
   "metadata": {},
   "outputs": [
    {
     "data": {
      "text/html": [
       "<div>\n",
       "<style scoped>\n",
       "    .dataframe tbody tr th:only-of-type {\n",
       "        vertical-align: middle;\n",
       "    }\n",
       "\n",
       "    .dataframe tbody tr th {\n",
       "        vertical-align: top;\n",
       "    }\n",
       "\n",
       "    .dataframe thead th {\n",
       "        text-align: right;\n",
       "    }\n",
       "</style>\n",
       "<table border=\"1\" class=\"dataframe\">\n",
       "  <thead>\n",
       "    <tr style=\"text-align: right;\">\n",
       "      <th></th>\n",
       "      <th>APPLICATION_TYPE</th>\n",
       "      <th>AFFILIATION</th>\n",
       "      <th>CLASSIFICATION</th>\n",
       "      <th>USE_CASE</th>\n",
       "      <th>ORGANIZATION</th>\n",
       "      <th>INCOME_AMT</th>\n",
       "      <th>ASK_AMT</th>\n",
       "      <th>IS_SUCCESSFUL</th>\n",
       "    </tr>\n",
       "  </thead>\n",
       "  <tbody>\n",
       "    <tr>\n",
       "      <th>0</th>\n",
       "      <td>T10</td>\n",
       "      <td>Independent</td>\n",
       "      <td>C1000</td>\n",
       "      <td>ProductDev</td>\n",
       "      <td>Association</td>\n",
       "      <td>0</td>\n",
       "      <td>5000</td>\n",
       "      <td>1</td>\n",
       "    </tr>\n",
       "    <tr>\n",
       "      <th>1</th>\n",
       "      <td>T3</td>\n",
       "      <td>Independent</td>\n",
       "      <td>C2000</td>\n",
       "      <td>Preservation</td>\n",
       "      <td>Co-operative</td>\n",
       "      <td>1-9999</td>\n",
       "      <td>108590</td>\n",
       "      <td>1</td>\n",
       "    </tr>\n",
       "    <tr>\n",
       "      <th>2</th>\n",
       "      <td>T5</td>\n",
       "      <td>CompanySponsored</td>\n",
       "      <td>C3000</td>\n",
       "      <td>ProductDev</td>\n",
       "      <td>Association</td>\n",
       "      <td>0</td>\n",
       "      <td>5000</td>\n",
       "      <td>0</td>\n",
       "    </tr>\n",
       "    <tr>\n",
       "      <th>3</th>\n",
       "      <td>T3</td>\n",
       "      <td>CompanySponsored</td>\n",
       "      <td>C2000</td>\n",
       "      <td>Preservation</td>\n",
       "      <td>Trust</td>\n",
       "      <td>10000-24999</td>\n",
       "      <td>6692</td>\n",
       "      <td>1</td>\n",
       "    </tr>\n",
       "    <tr>\n",
       "      <th>4</th>\n",
       "      <td>T3</td>\n",
       "      <td>Independent</td>\n",
       "      <td>C1000</td>\n",
       "      <td>Heathcare</td>\n",
       "      <td>Trust</td>\n",
       "      <td>100000-499999</td>\n",
       "      <td>142590</td>\n",
       "      <td>1</td>\n",
       "    </tr>\n",
       "  </tbody>\n",
       "</table>\n",
       "</div>"
      ],
      "text/plain": [
       "  APPLICATION_TYPE       AFFILIATION CLASSIFICATION      USE_CASE  \\\n",
       "0              T10       Independent          C1000    ProductDev   \n",
       "1               T3       Independent          C2000  Preservation   \n",
       "2               T5  CompanySponsored          C3000    ProductDev   \n",
       "3               T3  CompanySponsored          C2000  Preservation   \n",
       "4               T3       Independent          C1000     Heathcare   \n",
       "\n",
       "   ORGANIZATION     INCOME_AMT  ASK_AMT  IS_SUCCESSFUL  \n",
       "0   Association              0     5000              1  \n",
       "1  Co-operative         1-9999   108590              1  \n",
       "2   Association              0     5000              0  \n",
       "3         Trust    10000-24999     6692              1  \n",
       "4         Trust  100000-499999   142590              1  "
      ]
     },
     "execution_count": 6,
     "metadata": {},
     "output_type": "execute_result"
    }
   ],
   "source": [
    "application_df.head()"
   ]
  },
  {
   "cell_type": "code",
   "execution_count": 7,
   "metadata": {},
   "outputs": [
    {
     "data": {
      "text/plain": [
       "count    3.429900e+04\n",
       "mean     2.769199e+06\n",
       "std      8.713045e+07\n",
       "min      5.000000e+03\n",
       "25%      5.000000e+03\n",
       "50%      5.000000e+03\n",
       "75%      7.742000e+03\n",
       "max      8.597806e+09\n",
       "Name: ASK_AMT, dtype: float64"
      ]
     },
     "execution_count": 7,
     "metadata": {},
     "output_type": "execute_result"
    }
   ],
   "source": [
    "# determine metrics for ASK_AMT column\n",
    "ask_amt_s = application_df[\"ASK_AMT\"]\n",
    "ask_amt_desc = ask_amt_s.describe()\n",
    "ask_amt_desc"
   ]
  },
  {
   "cell_type": "code",
   "execution_count": 8,
   "metadata": {},
   "outputs": [
    {
     "name": "stdout",
     "output_type": "stream",
     "text": [
      "887.0 11855.0\n"
     ]
    }
   ],
   "source": [
    "# calculate lower and upper bounds for outliers\n",
    "ask_amt_IQR = ask_amt_desc[\"75%\"] - ask_amt_desc[\"25%\"]\n",
    "ask_amt_lower_bound = ask_amt_desc[\"25%\"] - 1.5*ask_amt_IQR\n",
    "ask_amt_upper_bound = ask_amt_desc[\"75%\"] + 1.5*ask_amt_IQR\n",
    "print(ask_amt_lower_bound, ask_amt_upper_bound)"
   ]
  },
  {
   "cell_type": "code",
   "execution_count": 9,
   "metadata": {},
   "outputs": [
    {
     "data": {
      "text/plain": [
       "<AxesSubplot:>"
      ]
     },
     "execution_count": 9,
     "metadata": {},
     "output_type": "execute_result"
    },
    {
     "data": {
      "image/png": "[encoded data removed]",
      "text/plain": [
       "<Figure size 432x288 with 1 Axes>"
      ]
     },
     "metadata": {
      "needs_background": "light"
     },
     "output_type": "display_data"
    }
   ],
   "source": [
    "application_df.boxplot(column=\"ASK_AMT\")"
   ]
  },
  {
   "cell_type": "code",
   "execution_count": 10,
   "metadata": {},
   "outputs": [
    {
     "data": {
      "text/plain": [
       "APPLICATION_TYPE    8206\n",
       "AFFILIATION         8206\n",
       "CLASSIFICATION      8206\n",
       "USE_CASE            8206\n",
       "ORGANIZATION        8206\n",
       "INCOME_AMT          8206\n",
       "ASK_AMT             8206\n",
       "IS_SUCCESSFUL       8206\n",
       "dtype: int64"
      ]
     },
     "execution_count": 10,
     "metadata": {},
     "output_type": "execute_result"
    }
   ],
   "source": [
    "# determine number of upper bound outliers\n",
    "upper_bound_outliers = application_df[application_df[\"ASK_AMT\"] > 11855]\n",
    "upper_bound_outliers.count()"
   ]
  },
  {
   "cell_type": "code",
   "execution_count": 11,
   "metadata": {},
   "outputs": [
    {
     "data": {
      "text/plain": [
       "APPLICATION_TYPE    0\n",
       "AFFILIATION         0\n",
       "CLASSIFICATION      0\n",
       "USE_CASE            0\n",
       "ORGANIZATION        0\n",
       "INCOME_AMT          0\n",
       "ASK_AMT             0\n",
       "IS_SUCCESSFUL       0\n",
       "dtype: int64"
      ]
     },
     "execution_count": 11,
     "metadata": {},
     "output_type": "execute_result"
    }
   ],
   "source": [
    "# determine number of lower bound outliers\n",
    "lower_bound_outliers = application_df[application_df[\"ASK_AMT\"] < 877]\n",
    "lower_bound_outliers.count()"
   ]
  },
  {
   "cell_type": "code",
   "execution_count": 12,
   "metadata": {},
   "outputs": [
    {
     "data": {
      "text/plain": [
       "26093"
      ]
     },
     "execution_count": 12,
     "metadata": {},
     "output_type": "execute_result"
    }
   ],
   "source": [
    "# filter dataframe to exclude outliers\n",
    "application_df = application_df[application_df[\"ASK_AMT\"] < 11855]\n",
    "len(application_df)"
   ]
  },
  {
   "cell_type": "code",
   "execution_count": 13,
   "metadata": {},
   "outputs": [
    {
     "data": {
      "text/plain": [
       "APPLICATION_TYPE     12\n",
       "AFFILIATION           6\n",
       "CLASSIFICATION       65\n",
       "USE_CASE              5\n",
       "ORGANIZATION          4\n",
       "INCOME_AMT            9\n",
       "ASK_AMT             656\n",
       "IS_SUCCESSFUL         2\n",
       "dtype: int64"
      ]
     },
     "execution_count": 13,
     "metadata": {},
     "output_type": "execute_result"
    }
   ],
   "source": [
    "# determine the number of unique values in each column\n",
    "application_df.nunique()"
   ]
  },
  {
   "cell_type": "code",
   "execution_count": 14,
   "metadata": {},
   "outputs": [
    {
     "data": {
      "text/plain": [
       "T3     20086\n",
       "T4      1331\n",
       "T19      999\n",
       "T5       894\n",
       "T6       882\n",
       "T8       669\n",
       "T7       633\n",
       "T10      508\n",
       "T13       54\n",
       "T9        18\n",
       "T12       13\n",
       "T2         6\n",
       "Name: APPLICATION_TYPE, dtype: int64"
      ]
     },
     "execution_count": 14,
     "metadata": {},
     "output_type": "execute_result"
    }
   ],
   "source": [
    "# look at APPLICATION_TYPE value counts for binning\n",
    "application_counts = application_df.APPLICATION_TYPE.value_counts()\n",
    "application_counts"
   ]
  },
  {
   "cell_type": "code",
   "execution_count": 15,
   "metadata": {},
   "outputs": [
    {
     "data": {
      "text/plain": [
       "<AxesSubplot:ylabel='Density'>"
      ]
     },
     "execution_count": 15,
     "metadata": {},
     "output_type": "execute_result"
    },
    {
     "data": {
      "image/png": "[encoded data removed]",
      "text/plain": [
       "<Figure size 432x288 with 1 Axes>"
      ]
     },
     "metadata": {
      "needs_background": "light"
     },
     "output_type": "display_data"
    }
   ],
   "source": [
    "# visualize the value counts of APPLICATION_TYPE\n",
    "application_counts.plot.density()"
   ]
  },
  {
   "cell_type": "code",
   "execution_count": 16,
   "metadata": {},
   "outputs": [
    {
     "data": {
      "text/plain": [
       "T3       20086\n",
       "T4        1331\n",
       "T19        999\n",
       "T5         894\n",
       "T6         882\n",
       "T8         669\n",
       "T7         633\n",
       "T10        508\n",
       "Other       91\n",
       "Name: APPLICATION_TYPE, dtype: int64"
      ]
     },
     "execution_count": 16,
     "metadata": {},
     "output_type": "execute_result"
    }
   ],
   "source": [
    "# eplace if counts are less than 200\n",
    "replace_application = list(application_counts[application_counts <200].index) \n",
    "\n",
    "# replace in dataframe\n",
    "for app in replace_application:\n",
    "    application_df.APPLICATION_TYPE = application_df.APPLICATION_TYPE.replace(app,\"Other\")\n",
    "    \n",
    "# check to make sure binning was successful\n",
    "application_df.APPLICATION_TYPE.value_counts()"
   ]
  },
  {
   "cell_type": "code",
   "execution_count": 17,
   "metadata": {},
   "outputs": [
    {
     "data": {
      "text/plain": [
       "C1000    12557\n",
       "C2000     4693\n",
       "C1200     3997\n",
       "C2100     1623\n",
       "C3000     1537\n",
       "         ...  \n",
       "C1732        1\n",
       "C1728        1\n",
       "C4120        1\n",
       "C1245        1\n",
       "C2150        1\n",
       "Name: CLASSIFICATION, Length: 65, dtype: int64"
      ]
     },
     "execution_count": 17,
     "metadata": {},
     "output_type": "execute_result"
    }
   ],
   "source": [
    "# look at CLASSIFICATION value counts for binning\n",
    "classification_counts = application_df.CLASSIFICATION.value_counts()\n",
    "classification_counts"
   ]
  },
  {
   "cell_type": "code",
   "execution_count": 18,
   "metadata": {},
   "outputs": [
    {
     "data": {
      "text/plain": [
       "<AxesSubplot:ylabel='Density'>"
      ]
     },
     "execution_count": 18,
     "metadata": {},
     "output_type": "execute_result"
    },
    {
     "data": {
      "image/png": "[encoded data removed]",
      "text/plain": [
       "<Figure size 432x288 with 1 Axes>"
      ]
     },
     "metadata": {
      "needs_background": "light"
     },
     "output_type": "display_data"
    }
   ],
   "source": [
    "# visualize the value counts of CLASSIFICATION\n",
    "classification_counts.plot.density()"
   ]
  },
  {
   "cell_type": "code",
   "execution_count": 19,
   "metadata": {},
   "outputs": [
    {
     "data": {
      "text/plain": [
       "C1000    12557\n",
       "C2000     4693\n",
       "C1200     3997\n",
       "Other     1686\n",
       "C2100     1623\n",
       "C3000     1537\n",
       "Name: CLASSIFICATION, dtype: int64"
      ]
     },
     "execution_count": 19,
     "metadata": {},
     "output_type": "execute_result"
    }
   ],
   "source": [
    "# replace if counts are less than 1000\n",
    "replace_class = list(classification_counts[classification_counts < 1000].index) \n",
    "\n",
    "# replace in dataframe\n",
    "for cls in replace_class:\n",
    "    application_df.CLASSIFICATION = application_df.CLASSIFICATION.replace(cls,\"Other\")\n",
    "    \n",
    "# check to make sure binning was successful\n",
    "application_df.CLASSIFICATION.value_counts()"
   ]
  },
  {
   "cell_type": "code",
   "execution_count": 20,
   "metadata": {},
   "outputs": [
    {
     "data": {
      "text/plain": [
       "['APPLICATION_TYPE',\n",
       " 'AFFILIATION',\n",
       " 'CLASSIFICATION',\n",
       " 'USE_CASE',\n",
       " 'ORGANIZATION',\n",
       " 'INCOME_AMT']"
      ]
     },
     "execution_count": 20,
     "metadata": {},
     "output_type": "execute_result"
    }
   ],
   "source": [
    "# Generate our categorical variable lists\n",
    "application_cat = application_df.dtypes[application_df.dtypes == \"object\"].index.tolist()\n",
    "application_cat"
   ]
  },
  {
   "cell_type": "code",
   "execution_count": 21,
   "metadata": {},
   "outputs": [
    {
     "data": {
      "text/html": [
       "<div>\n",
       "<style scoped>\n",
       "    .dataframe tbody tr th:only-of-type {\n",
       "        vertical-align: middle;\n",
       "    }\n",
       "\n",
       "    .dataframe tbody tr th {\n",
       "        vertical-align: top;\n",
       "    }\n",
       "\n",
       "    .dataframe thead th {\n",
       "        text-align: right;\n",
       "    }\n",
       "</style>\n",
       "<table border=\"1\" class=\"dataframe\">\n",
       "  <thead>\n",
       "    <tr style=\"text-align: right;\">\n",
       "      <th></th>\n",
       "      <th>APPLICATION_TYPE_Other</th>\n",
       "      <th>APPLICATION_TYPE_T10</th>\n",
       "      <th>APPLICATION_TYPE_T19</th>\n",
       "      <th>APPLICATION_TYPE_T3</th>\n",
       "      <th>APPLICATION_TYPE_T4</th>\n",
       "      <th>APPLICATION_TYPE_T5</th>\n",
       "      <th>APPLICATION_TYPE_T6</th>\n",
       "      <th>APPLICATION_TYPE_T7</th>\n",
       "      <th>APPLICATION_TYPE_T8</th>\n",
       "      <th>AFFILIATION_CompanySponsored</th>\n",
       "      <th>...</th>\n",
       "      <th>ORGANIZATION_Trust</th>\n",
       "      <th>INCOME_AMT_0</th>\n",
       "      <th>INCOME_AMT_1-9999</th>\n",
       "      <th>INCOME_AMT_10000-24999</th>\n",
       "      <th>INCOME_AMT_100000-499999</th>\n",
       "      <th>INCOME_AMT_10M-50M</th>\n",
       "      <th>INCOME_AMT_1M-5M</th>\n",
       "      <th>INCOME_AMT_25000-99999</th>\n",
       "      <th>INCOME_AMT_50M+</th>\n",
       "      <th>INCOME_AMT_5M-10M</th>\n",
       "    </tr>\n",
       "  </thead>\n",
       "  <tbody>\n",
       "    <tr>\n",
       "      <th>0</th>\n",
       "      <td>0.0</td>\n",
       "      <td>1.0</td>\n",
       "      <td>0.0</td>\n",
       "      <td>0.0</td>\n",
       "      <td>0.0</td>\n",
       "      <td>0.0</td>\n",
       "      <td>0.0</td>\n",
       "      <td>0.0</td>\n",
       "      <td>0.0</td>\n",
       "      <td>0.0</td>\n",
       "      <td>...</td>\n",
       "      <td>0.0</td>\n",
       "      <td>1.0</td>\n",
       "      <td>0.0</td>\n",
       "      <td>0.0</td>\n",
       "      <td>0.0</td>\n",
       "      <td>0.0</td>\n",
       "      <td>0.0</td>\n",
       "      <td>0.0</td>\n",
       "      <td>0.0</td>\n",
       "      <td>0.0</td>\n",
       "    </tr>\n",
       "    <tr>\n",
       "      <th>1</th>\n",
       "      <td>0.0</td>\n",
       "      <td>0.0</td>\n",
       "      <td>0.0</td>\n",
       "      <td>0.0</td>\n",
       "      <td>0.0</td>\n",
       "      <td>1.0</td>\n",
       "      <td>0.0</td>\n",
       "      <td>0.0</td>\n",
       "      <td>0.0</td>\n",
       "      <td>1.0</td>\n",
       "      <td>...</td>\n",
       "      <td>0.0</td>\n",
       "      <td>1.0</td>\n",
       "      <td>0.0</td>\n",
       "      <td>0.0</td>\n",
       "      <td>0.0</td>\n",
       "      <td>0.0</td>\n",
       "      <td>0.0</td>\n",
       "      <td>0.0</td>\n",
       "      <td>0.0</td>\n",
       "      <td>0.0</td>\n",
       "    </tr>\n",
       "    <tr>\n",
       "      <th>2</th>\n",
       "      <td>0.0</td>\n",
       "      <td>0.0</td>\n",
       "      <td>0.0</td>\n",
       "      <td>1.0</td>\n",
       "      <td>0.0</td>\n",
       "      <td>0.0</td>\n",
       "      <td>0.0</td>\n",
       "      <td>0.0</td>\n",
       "      <td>0.0</td>\n",
       "      <td>1.0</td>\n",
       "      <td>...</td>\n",
       "      <td>1.0</td>\n",
       "      <td>0.0</td>\n",
       "      <td>0.0</td>\n",
       "      <td>1.0</td>\n",
       "      <td>0.0</td>\n",
       "      <td>0.0</td>\n",
       "      <td>0.0</td>\n",
       "      <td>0.0</td>\n",
       "      <td>0.0</td>\n",
       "      <td>0.0</td>\n",
       "    </tr>\n",
       "    <tr>\n",
       "      <th>3</th>\n",
       "      <td>0.0</td>\n",
       "      <td>0.0</td>\n",
       "      <td>0.0</td>\n",
       "      <td>1.0</td>\n",
       "      <td>0.0</td>\n",
       "      <td>0.0</td>\n",
       "      <td>0.0</td>\n",
       "      <td>0.0</td>\n",
       "      <td>0.0</td>\n",
       "      <td>0.0</td>\n",
       "      <td>...</td>\n",
       "      <td>1.0</td>\n",
       "      <td>1.0</td>\n",
       "      <td>0.0</td>\n",
       "      <td>0.0</td>\n",
       "      <td>0.0</td>\n",
       "      <td>0.0</td>\n",
       "      <td>0.0</td>\n",
       "      <td>0.0</td>\n",
       "      <td>0.0</td>\n",
       "      <td>0.0</td>\n",
       "    </tr>\n",
       "    <tr>\n",
       "      <th>4</th>\n",
       "      <td>0.0</td>\n",
       "      <td>0.0</td>\n",
       "      <td>0.0</td>\n",
       "      <td>0.0</td>\n",
       "      <td>0.0</td>\n",
       "      <td>1.0</td>\n",
       "      <td>0.0</td>\n",
       "      <td>0.0</td>\n",
       "      <td>0.0</td>\n",
       "      <td>1.0</td>\n",
       "      <td>...</td>\n",
       "      <td>0.0</td>\n",
       "      <td>1.0</td>\n",
       "      <td>0.0</td>\n",
       "      <td>0.0</td>\n",
       "      <td>0.0</td>\n",
       "      <td>0.0</td>\n",
       "      <td>0.0</td>\n",
       "      <td>0.0</td>\n",
       "      <td>0.0</td>\n",
       "      <td>0.0</td>\n",
       "    </tr>\n",
       "  </tbody>\n",
       "</table>\n",
       "<p>5 rows × 39 columns</p>\n",
       "</div>"
      ],
      "text/plain": [
       "   APPLICATION_TYPE_Other  APPLICATION_TYPE_T10  APPLICATION_TYPE_T19  \\\n",
       "0                     0.0                   1.0                   0.0   \n",
       "1                     0.0                   0.0                   0.0   \n",
       "2                     0.0                   0.0                   0.0   \n",
       "3                     0.0                   0.0                   0.0   \n",
       "4                     0.0                   0.0                   0.0   \n",
       "\n",
       "   APPLICATION_TYPE_T3  APPLICATION_TYPE_T4  APPLICATION_TYPE_T5  \\\n",
       "0                  0.0                  0.0                  0.0   \n",
       "1                  0.0                  0.0                  1.0   \n",
       "2                  1.0                  0.0                  0.0   \n",
       "3                  1.0                  0.0                  0.0   \n",
       "4                  0.0                  0.0                  1.0   \n",
       "\n",
       "   APPLICATION_TYPE_T6  APPLICATION_TYPE_T7  APPLICATION_TYPE_T8  \\\n",
       "0                  0.0                  0.0                  0.0   \n",
       "1                  0.0                  0.0                  0.0   \n",
       "2                  0.0                  0.0                  0.0   \n",
       "3                  0.0                  0.0                  0.0   \n",
       "4                  0.0                  0.0                  0.0   \n",
       "\n",
       "   AFFILIATION_CompanySponsored  ...  ORGANIZATION_Trust  INCOME_AMT_0  \\\n",
       "0                           0.0  ...                 0.0           1.0   \n",
       "1                           1.0  ...                 0.0           1.0   \n",
       "2                           1.0  ...                 1.0           0.0   \n",
       "3                           0.0  ...                 1.0           1.0   \n",
       "4                           1.0  ...                 0.0           1.0   \n",
       "\n",
       "   INCOME_AMT_1-9999  INCOME_AMT_10000-24999  INCOME_AMT_100000-499999  \\\n",
       "0                0.0                     0.0                       0.0   \n",
       "1                0.0                     0.0                       0.0   \n",
       "2                0.0                     1.0                       0.0   \n",
       "3                0.0                     0.0                       0.0   \n",
       "4                0.0                     0.0                       0.0   \n",
       "\n",
       "   INCOME_AMT_10M-50M  INCOME_AMT_1M-5M  INCOME_AMT_25000-99999  \\\n",
       "0                 0.0               0.0                     0.0   \n",
       "1                 0.0               0.0                     0.0   \n",
       "2                 0.0               0.0                     0.0   \n",
       "3                 0.0               0.0                     0.0   \n",
       "4                 0.0               0.0                     0.0   \n",
       "\n",
       "   INCOME_AMT_50M+  INCOME_AMT_5M-10M  \n",
       "0              0.0                0.0  \n",
       "1              0.0                0.0  \n",
       "2              0.0                0.0  \n",
       "3              0.0                0.0  \n",
       "4              0.0                0.0  \n",
       "\n",
       "[5 rows x 39 columns]"
      ]
     },
     "execution_count": 21,
     "metadata": {},
     "output_type": "execute_result"
    }
   ],
   "source": [
    "# remove warning message\n",
    "warnings.filterwarnings('ignore')\n",
    "\n",
    "# create a OneHotEncoder instance\n",
    "enc = OneHotEncoder(sparse=False)\n",
    "\n",
    "# fit and transform the OneHotEncoder using the categorical variable list\n",
    "encode_df = pd.DataFrame(enc.fit_transform(application_df[application_cat]))\n",
    "\n",
    "# ddd the encoded variable names to the dataframe\n",
    "encode_df.columns = enc.get_feature_names(application_cat)\n",
    "encode_df.head()"
   ]
  },
  {
   "cell_type": "code",
   "execution_count": 22,
   "metadata": {},
   "outputs": [
    {
     "data": {
      "text/html": [
       "<div>\n",
       "<style scoped>\n",
       "    .dataframe tbody tr th:only-of-type {\n",
       "        vertical-align: middle;\n",
       "    }\n",
       "\n",
       "    .dataframe tbody tr th {\n",
       "        vertical-align: top;\n",
       "    }\n",
       "\n",
       "    .dataframe thead th {\n",
       "        text-align: right;\n",
       "    }\n",
       "</style>\n",
       "<table border=\"1\" class=\"dataframe\">\n",
       "  <thead>\n",
       "    <tr style=\"text-align: right;\">\n",
       "      <th></th>\n",
       "      <th>ASK_AMT</th>\n",
       "      <th>IS_SUCCESSFUL</th>\n",
       "      <th>APPLICATION_TYPE_Other</th>\n",
       "      <th>APPLICATION_TYPE_T10</th>\n",
       "      <th>APPLICATION_TYPE_T19</th>\n",
       "      <th>APPLICATION_TYPE_T3</th>\n",
       "      <th>APPLICATION_TYPE_T4</th>\n",
       "      <th>APPLICATION_TYPE_T5</th>\n",
       "      <th>APPLICATION_TYPE_T6</th>\n",
       "      <th>APPLICATION_TYPE_T7</th>\n",
       "      <th>...</th>\n",
       "      <th>ORGANIZATION_Trust</th>\n",
       "      <th>INCOME_AMT_0</th>\n",
       "      <th>INCOME_AMT_1-9999</th>\n",
       "      <th>INCOME_AMT_10000-24999</th>\n",
       "      <th>INCOME_AMT_100000-499999</th>\n",
       "      <th>INCOME_AMT_10M-50M</th>\n",
       "      <th>INCOME_AMT_1M-5M</th>\n",
       "      <th>INCOME_AMT_25000-99999</th>\n",
       "      <th>INCOME_AMT_50M+</th>\n",
       "      <th>INCOME_AMT_5M-10M</th>\n",
       "    </tr>\n",
       "  </thead>\n",
       "  <tbody>\n",
       "    <tr>\n",
       "      <th>0</th>\n",
       "      <td>5000</td>\n",
       "      <td>1</td>\n",
       "      <td>0.0</td>\n",
       "      <td>1.0</td>\n",
       "      <td>0.0</td>\n",
       "      <td>0.0</td>\n",
       "      <td>0.0</td>\n",
       "      <td>0.0</td>\n",
       "      <td>0.0</td>\n",
       "      <td>0.0</td>\n",
       "      <td>...</td>\n",
       "      <td>0.0</td>\n",
       "      <td>1.0</td>\n",
       "      <td>0.0</td>\n",
       "      <td>0.0</td>\n",
       "      <td>0.0</td>\n",
       "      <td>0.0</td>\n",
       "      <td>0.0</td>\n",
       "      <td>0.0</td>\n",
       "      <td>0.0</td>\n",
       "      <td>0.0</td>\n",
       "    </tr>\n",
       "    <tr>\n",
       "      <th>2</th>\n",
       "      <td>5000</td>\n",
       "      <td>0</td>\n",
       "      <td>0.0</td>\n",
       "      <td>0.0</td>\n",
       "      <td>0.0</td>\n",
       "      <td>1.0</td>\n",
       "      <td>0.0</td>\n",
       "      <td>0.0</td>\n",
       "      <td>0.0</td>\n",
       "      <td>0.0</td>\n",
       "      <td>...</td>\n",
       "      <td>1.0</td>\n",
       "      <td>0.0</td>\n",
       "      <td>0.0</td>\n",
       "      <td>1.0</td>\n",
       "      <td>0.0</td>\n",
       "      <td>0.0</td>\n",
       "      <td>0.0</td>\n",
       "      <td>0.0</td>\n",
       "      <td>0.0</td>\n",
       "      <td>0.0</td>\n",
       "    </tr>\n",
       "    <tr>\n",
       "      <th>3</th>\n",
       "      <td>6692</td>\n",
       "      <td>1</td>\n",
       "      <td>0.0</td>\n",
       "      <td>0.0</td>\n",
       "      <td>0.0</td>\n",
       "      <td>1.0</td>\n",
       "      <td>0.0</td>\n",
       "      <td>0.0</td>\n",
       "      <td>0.0</td>\n",
       "      <td>0.0</td>\n",
       "      <td>...</td>\n",
       "      <td>1.0</td>\n",
       "      <td>1.0</td>\n",
       "      <td>0.0</td>\n",
       "      <td>0.0</td>\n",
       "      <td>0.0</td>\n",
       "      <td>0.0</td>\n",
       "      <td>0.0</td>\n",
       "      <td>0.0</td>\n",
       "      <td>0.0</td>\n",
       "      <td>0.0</td>\n",
       "    </tr>\n",
       "    <tr>\n",
       "      <th>5</th>\n",
       "      <td>5000</td>\n",
       "      <td>1</td>\n",
       "      <td>0.0</td>\n",
       "      <td>0.0</td>\n",
       "      <td>0.0</td>\n",
       "      <td>1.0</td>\n",
       "      <td>0.0</td>\n",
       "      <td>0.0</td>\n",
       "      <td>0.0</td>\n",
       "      <td>0.0</td>\n",
       "      <td>...</td>\n",
       "      <td>0.0</td>\n",
       "      <td>1.0</td>\n",
       "      <td>0.0</td>\n",
       "      <td>0.0</td>\n",
       "      <td>0.0</td>\n",
       "      <td>0.0</td>\n",
       "      <td>0.0</td>\n",
       "      <td>0.0</td>\n",
       "      <td>0.0</td>\n",
       "      <td>0.0</td>\n",
       "    </tr>\n",
       "    <tr>\n",
       "      <th>9</th>\n",
       "      <td>5000</td>\n",
       "      <td>0</td>\n",
       "      <td>0.0</td>\n",
       "      <td>0.0</td>\n",
       "      <td>0.0</td>\n",
       "      <td>1.0</td>\n",
       "      <td>0.0</td>\n",
       "      <td>0.0</td>\n",
       "      <td>0.0</td>\n",
       "      <td>0.0</td>\n",
       "      <td>...</td>\n",
       "      <td>1.0</td>\n",
       "      <td>1.0</td>\n",
       "      <td>0.0</td>\n",
       "      <td>0.0</td>\n",
       "      <td>0.0</td>\n",
       "      <td>0.0</td>\n",
       "      <td>0.0</td>\n",
       "      <td>0.0</td>\n",
       "      <td>0.0</td>\n",
       "      <td>0.0</td>\n",
       "    </tr>\n",
       "  </tbody>\n",
       "</table>\n",
       "<p>5 rows × 41 columns</p>\n",
       "</div>"
      ],
      "text/plain": [
       "   ASK_AMT  IS_SUCCESSFUL  APPLICATION_TYPE_Other  APPLICATION_TYPE_T10  \\\n",
       "0     5000              1                     0.0                   1.0   \n",
       "2     5000              0                     0.0                   0.0   \n",
       "3     6692              1                     0.0                   0.0   \n",
       "5     5000              1                     0.0                   0.0   \n",
       "9     5000              0                     0.0                   0.0   \n",
       "\n",
       "   APPLICATION_TYPE_T19  APPLICATION_TYPE_T3  APPLICATION_TYPE_T4  \\\n",
       "0                   0.0                  0.0                  0.0   \n",
       "2                   0.0                  1.0                  0.0   \n",
       "3                   0.0                  1.0                  0.0   \n",
       "5                   0.0                  1.0                  0.0   \n",
       "9                   0.0                  1.0                  0.0   \n",
       "\n",
       "   APPLICATION_TYPE_T5  APPLICATION_TYPE_T6  APPLICATION_TYPE_T7  ...  \\\n",
       "0                  0.0                  0.0                  0.0  ...   \n",
       "2                  0.0                  0.0                  0.0  ...   \n",
       "3                  0.0                  0.0                  0.0  ...   \n",
       "5                  0.0                  0.0                  0.0  ...   \n",
       "9                  0.0                  0.0                  0.0  ...   \n",
       "\n",
       "   ORGANIZATION_Trust  INCOME_AMT_0  INCOME_AMT_1-9999  \\\n",
       "0                 0.0           1.0                0.0   \n",
       "2                 1.0           0.0                0.0   \n",
       "3                 1.0           1.0                0.0   \n",
       "5                 0.0           1.0                0.0   \n",
       "9                 1.0           1.0                0.0   \n",
       "\n",
       "   INCOME_AMT_10000-24999  INCOME_AMT_100000-499999  INCOME_AMT_10M-50M  \\\n",
       "0                     0.0                       0.0                 0.0   \n",
       "2                     1.0                       0.0                 0.0   \n",
       "3                     0.0                       0.0                 0.0   \n",
       "5                     0.0                       0.0                 0.0   \n",
       "9                     0.0                       0.0                 0.0   \n",
       "\n",
       "   INCOME_AMT_1M-5M  INCOME_AMT_25000-99999  INCOME_AMT_50M+  \\\n",
       "0               0.0                     0.0              0.0   \n",
       "2               0.0                     0.0              0.0   \n",
       "3               0.0                     0.0              0.0   \n",
       "5               0.0                     0.0              0.0   \n",
       "9               0.0                     0.0              0.0   \n",
       "\n",
       "   INCOME_AMT_5M-10M  \n",
       "0                0.0  \n",
       "2                0.0  \n",
       "3                0.0  \n",
       "5                0.0  \n",
       "9                0.0  \n",
       "\n",
       "[5 rows x 41 columns]"
      ]
     },
     "execution_count": 22,
     "metadata": {},
     "output_type": "execute_result"
    }
   ],
   "source": [
    "# merge one-hot encoded features and drop the originals\n",
    "new_application_df = application_df.merge(encode_df, left_index=True, right_index=True).drop([\n",
    "    \"APPLICATION_TYPE\", \"CLASSIFICATION\", \"AFFILIATION\", \"USE_CASE\", \"ORGANIZATION\", \"INCOME_AMT\"], 1)\n",
    "new_application_df.head()"
   ]
  },
  {
   "cell_type": "code",
   "execution_count": 23,
   "metadata": {},
   "outputs": [],
   "source": [
    "# split our preprocessed data into our features and target arrays\n",
    "y = new_application_df[\"IS_SUCCESSFUL\"].values\n",
    "X = new_application_df.drop([\"IS_SUCCESSFUL\"],1).values\n",
    "\n",
    "# split the preprocessed data into a training and testing dataset\n",
    "X_train, X_test, y_train, y_test = train_test_split(X,y,random_state=1)"
   ]
  },
  {
   "cell_type": "code",
   "execution_count": 24,
   "metadata": {},
   "outputs": [],
   "source": [
    "# create a StandardScaler instance\n",
    "scaler = StandardScaler()\n",
    "\n",
    "# fit the StandardScaler\n",
    "X_scaler = scaler.fit(X_train)\n",
    "\n",
    "# scale the data\n",
    "X_train_scaled = X_scaler.transform(X_train)\n",
    "X_test_scaled = X_scaler.transform(X_test)"
   ]
  },
  {
   "cell_type": "markdown",
   "metadata": {},
   "source": [
    "### Deliverable 2: Compile, Train and Evaluate the Model"
   ]
  },
  {
   "cell_type": "code",
   "execution_count": 25,
   "metadata": {},
   "outputs": [
    {
     "name": "stdout",
     "output_type": "stream",
     "text": [
      "Model: \"sequential\"\n",
      "_________________________________________________________________\n",
      " Layer (type)                Output Shape              Param #   \n",
      "=================================================================\n",
      " dense (Dense)               (None, 80)                3280      \n",
      "                                                                 \n",
      " dense_1 (Dense)             (None, 30)                2430      \n",
      "                                                                 \n",
      " dense_2 (Dense)             (None, 10)                310       \n",
      "                                                                 \n",
      " dense_3 (Dense)             (None, 1)                 11        \n",
      "                                                                 \n",
      "=================================================================\n",
      "Total params: 6,031\n",
      "Trainable params: 6,031\n",
      "Non-trainable params: 0\n",
      "_________________________________________________________________\n"
     ]
    }
   ],
   "source": [
    "# define the model - deep neural net, i.e., the number of input features and hidden nodes for each layer.\n",
    "number_input_features = len(X_train[0])\n",
    "hidden_nodes_layer1 = 80\n",
    "hidden_nodes_layer2 = 30\n",
    "hidden_nodes_layer3 = 10\n",
    "\n",
    "nn = tf.keras.models.Sequential()\n",
    "\n",
    "# first hidden layer\n",
    "nn.add(tf.keras.layers.Dense(units=hidden_nodes_layer1,\n",
    "                            input_dim=number_input_features,\n",
    "                            activation=\"sigmoid\"))\n",
    "\n",
    "# second hidden layer\n",
    "nn.add(tf.keras.layers.Dense(units=hidden_nodes_layer2, \n",
    "                            activation=\"sigmoid\"))\n",
    "\n",
    "# third hidden layer\n",
    "nn.add(tf.keras.layers.Dense(units=hidden_nodes_layer3,\n",
    "                            activation=\"sigmoid\"))\n",
    "\n",
    "# output layer\n",
    "nn.add(tf.keras.layers.Dense(units=1, activation=\"tanh\"))\n",
    "\n",
    "# check the structure of the model\n",
    "nn.summary()"
   ]
  },
  {
   "cell_type": "code",
   "execution_count": 26,
   "metadata": {},
   "outputs": [
    {
     "name": "stdout",
     "output_type": "stream",
     "text": [
      "WARNING:tensorflow:`period` argument is deprecated. Please use `save_freq` to specify the frequency in number of batches seen.\n"
     ]
    }
   ],
   "source": [
    "# compile the model\n",
    "nn.compile(loss=\"binary_crossentropy\", optimizer=\"adam\", metrics=[\"accuracy\"])\n",
    "\n",
    "# create a callback that saves the model's weights every 5 epochs\n",
    "cp_callback = ModelCheckpoint(\n",
    "    filepath=checkpoint_path,\n",
    "    verbose=1,\n",
    "    save_weights_only=True,\n",
    "    period=5)"
   ]
  },
  {
   "cell_type": "code",
   "execution_count": 27,
   "metadata": {},
   "outputs": [
    {
     "name": "stdout",
     "output_type": "stream",
     "text": [
      "Epoch 1/100\n",
      "470/470 [==============================] - 1s 2ms/step - loss: 0.6963 - accuracy: 0.5268\n",
      "Epoch 2/100\n",
      "470/470 [==============================] - 1s 2ms/step - loss: 0.6923 - accuracy: 0.5272\n",
      "Epoch 3/100\n",
      "470/470 [==============================] - 1s 2ms/step - loss: 0.6926 - accuracy: 0.5282\n",
      "Epoch 4/100\n",
      "470/470 [==============================] - 1s 2ms/step - loss: 0.6924 - accuracy: 0.5287\n",
      "Epoch 5/100\n",
      "462/470 [============================>.] - ETA: 0s - loss: 0.6923 - accuracy: 0.5243\n",
      "Epoch 5: saving model to checkpoints/weights_2.05.hdf5\n",
      "470/470 [==============================] - 1s 3ms/step - loss: 0.6925 - accuracy: 0.5227\n",
      "Epoch 6/100\n",
      "470/470 [==============================] - 1s 2ms/step - loss: 0.6926 - accuracy: 0.5246\n",
      "Epoch 7/100\n",
      "470/470 [==============================] - 1s 2ms/step - loss: 0.6927 - accuracy: 0.5275\n",
      "Epoch 8/100\n",
      "470/470 [==============================] - 1s 2ms/step - loss: 0.6921 - accuracy: 0.5304\n",
      "Epoch 9/100\n",
      "470/470 [==============================] - 1s 2ms/step - loss: 0.6920 - accuracy: 0.5294\n",
      "Epoch 10/100\n",
      "453/470 [===========================>..] - ETA: 0s - loss: 0.6913 - accuracy: 0.5320\n",
      "Epoch 10: saving model to checkpoints/weights_2.10.hdf5\n",
      "470/470 [==============================] - 1s 2ms/step - loss: 0.6915 - accuracy: 0.5310\n",
      "Epoch 11/100\n",
      "470/470 [==============================] - 1s 2ms/step - loss: 0.6917 - accuracy: 0.5282\n",
      "Epoch 12/100\n",
      "470/470 [==============================] - 1s 2ms/step - loss: 0.6921 - accuracy: 0.5284\n",
      "Epoch 13/100\n",
      "470/470 [==============================] - 1s 2ms/step - loss: 0.6919 - accuracy: 0.5318\n",
      "Epoch 14/100\n",
      "470/470 [==============================] - 1s 2ms/step - loss: 0.6920 - accuracy: 0.5252\n",
      "Epoch 15/100\n",
      "464/470 [============================>.] - ETA: 0s - loss: 0.6918 - accuracy: 0.5264\n",
      "Epoch 15: saving model to checkpoints/weights_2.15.hdf5\n",
      "470/470 [==============================] - 1s 2ms/step - loss: 0.6918 - accuracy: 0.5266\n",
      "Epoch 16/100\n",
      "470/470 [==============================] - 1s 2ms/step - loss: 0.6915 - accuracy: 0.5266\n",
      "Epoch 17/100\n",
      "470/470 [==============================] - 1s 2ms/step - loss: 0.6918 - accuracy: 0.5272\n",
      "Epoch 18/100\n",
      "470/470 [==============================] - 1s 2ms/step - loss: 0.6917 - accuracy: 0.5283\n",
      "Epoch 19/100\n",
      "470/470 [==============================] - 1s 2ms/step - loss: 0.6920 - accuracy: 0.5271\n",
      "Epoch 20/100\n",
      "462/470 [============================>.] - ETA: 0s - loss: 0.6920 - accuracy: 0.5280\n",
      "Epoch 20: saving model to checkpoints/weights_2.20.hdf5\n",
      "470/470 [==============================] - 1s 2ms/step - loss: 0.6919 - accuracy: 0.5283\n",
      "Epoch 21/100\n",
      "470/470 [==============================] - 1s 2ms/step - loss: 0.6921 - accuracy: 0.5256\n",
      "Epoch 22/100\n",
      "470/470 [==============================] - 1s 2ms/step - loss: 0.6920 - accuracy: 0.5306\n",
      "Epoch 23/100\n",
      "470/470 [==============================] - 1s 2ms/step - loss: 0.6916 - accuracy: 0.5307\n",
      "Epoch 24/100\n",
      "470/470 [==============================] - 1s 2ms/step - loss: 0.6918 - accuracy: 0.5282\n",
      "Epoch 25/100\n",
      "453/470 [===========================>..] - ETA: 0s - loss: 0.6924 - accuracy: 0.5232\n",
      "Epoch 25: saving model to checkpoints/weights_2.25.hdf5\n",
      "470/470 [==============================] - 1s 2ms/step - loss: 0.6924 - accuracy: 0.5239\n",
      "Epoch 26/100\n",
      "470/470 [==============================] - 1s 2ms/step - loss: 0.6916 - accuracy: 0.5288\n",
      "Epoch 27/100\n",
      "470/470 [==============================] - 1s 2ms/step - loss: 0.6915 - accuracy: 0.5294\n",
      "Epoch 28/100\n",
      "470/470 [==============================] - 1s 2ms/step - loss: 0.6916 - accuracy: 0.5311\n",
      "Epoch 29/100\n",
      "470/470 [==============================] - 1s 2ms/step - loss: 0.6920 - accuracy: 0.5332\n",
      "Epoch 30/100\n",
      "456/470 [============================>.] - ETA: 0s - loss: 0.6917 - accuracy: 0.5312\n",
      "Epoch 30: saving model to checkpoints/weights_2.30.hdf5\n",
      "470/470 [==============================] - 1s 2ms/step - loss: 0.6917 - accuracy: 0.5316\n",
      "Epoch 31/100\n",
      "470/470 [==============================] - 1s 2ms/step - loss: 0.6917 - accuracy: 0.5318\n",
      "Epoch 32/100\n",
      "470/470 [==============================] - 1s 2ms/step - loss: 0.6915 - accuracy: 0.5296\n",
      "Epoch 33/100\n",
      "470/470 [==============================] - 1s 2ms/step - loss: 0.6919 - accuracy: 0.5332\n",
      "Epoch 34/100\n",
      "470/470 [==============================] - 1s 2ms/step - loss: 0.6919 - accuracy: 0.5287\n",
      "Epoch 35/100\n",
      "460/470 [============================>.] - ETA: 0s - loss: 0.6915 - accuracy: 0.5318\n",
      "Epoch 35: saving model to checkpoints/weights_2.35.hdf5\n",
      "470/470 [==============================] - 1s 2ms/step - loss: 0.6915 - accuracy: 0.5319\n",
      "Epoch 36/100\n",
      "470/470 [==============================] - 1s 2ms/step - loss: 0.6918 - accuracy: 0.5298\n",
      "Epoch 37/100\n",
      "470/470 [==============================] - 1s 2ms/step - loss: 0.6918 - accuracy: 0.5296\n",
      "Epoch 38/100\n",
      "470/470 [==============================] - 1s 2ms/step - loss: 0.6916 - accuracy: 0.5307\n",
      "Epoch 39/100\n",
      "470/470 [==============================] - 1s 2ms/step - loss: 0.6917 - accuracy: 0.5322\n",
      "Epoch 40/100\n",
      "453/470 [===========================>..] - ETA: 0s - loss: 0.6916 - accuracy: 0.5316\n",
      "Epoch 40: saving model to checkpoints/weights_2.40.hdf5\n",
      "470/470 [==============================] - 1s 2ms/step - loss: 0.6917 - accuracy: 0.5308\n",
      "Epoch 41/100\n",
      "470/470 [==============================] - 1s 2ms/step - loss: 0.6918 - accuracy: 0.5291\n",
      "Epoch 42/100\n",
      "470/470 [==============================] - 1s 3ms/step - loss: 0.6918 - accuracy: 0.5308\n",
      "Epoch 43/100\n",
      "470/470 [==============================] - 1s 2ms/step - loss: 0.6916 - accuracy: 0.5291\n",
      "Epoch 44/100\n",
      "470/470 [==============================] - 1s 2ms/step - loss: 0.6919 - accuracy: 0.5318\n",
      "Epoch 45/100\n",
      "456/470 [============================>.] - ETA: 0s - loss: 0.6914 - accuracy: 0.5275\n",
      "Epoch 45: saving model to checkpoints/weights_2.45.hdf5\n",
      "470/470 [==============================] - 1s 2ms/step - loss: 0.6915 - accuracy: 0.5275\n",
      "Epoch 46/100\n",
      "470/470 [==============================] - 1s 2ms/step - loss: 0.6913 - accuracy: 0.5320\n",
      "Epoch 47/100\n",
      "470/470 [==============================] - 1s 2ms/step - loss: 0.6915 - accuracy: 0.5324\n",
      "Epoch 48/100\n",
      "470/470 [==============================] - 1s 2ms/step - loss: 0.6914 - accuracy: 0.5300\n",
      "Epoch 49/100\n",
      "470/470 [==============================] - 1s 2ms/step - loss: 0.6917 - accuracy: 0.5295\n",
      "Epoch 50/100\n",
      "447/470 [===========================>..] - ETA: 0s - loss: 0.6918 - accuracy: 0.5331\n",
      "Epoch 50: saving model to checkpoints/weights_2.50.hdf5\n",
      "470/470 [==============================] - 1s 2ms/step - loss: 0.6919 - accuracy: 0.5308\n",
      "Epoch 51/100\n",
      "470/470 [==============================] - 1s 2ms/step - loss: 0.6917 - accuracy: 0.5299\n",
      "Epoch 52/100\n",
      "470/470 [==============================] - 1s 2ms/step - loss: 0.6915 - accuracy: 0.5320\n",
      "Epoch 53/100\n",
      "470/470 [==============================] - 1s 2ms/step - loss: 0.6917 - accuracy: 0.5319\n",
      "Epoch 54/100\n",
      "470/470 [==============================] - 1s 2ms/step - loss: 0.6915 - accuracy: 0.5320\n",
      "Epoch 55/100\n",
      "457/470 [============================>.] - ETA: 0s - loss: 0.6914 - accuracy: 0.5320\n",
      "Epoch 55: saving model to checkpoints/weights_2.55.hdf5\n",
      "470/470 [==============================] - 1s 2ms/step - loss: 0.6916 - accuracy: 0.5310\n",
      "Epoch 56/100\n",
      "470/470 [==============================] - 1s 2ms/step - loss: 0.6920 - accuracy: 0.5278\n",
      "Epoch 57/100\n",
      "470/470 [==============================] - 1s 2ms/step - loss: 0.6916 - accuracy: 0.5322\n",
      "Epoch 58/100\n",
      "470/470 [==============================] - 1s 2ms/step - loss: 0.6915 - accuracy: 0.5327\n",
      "Epoch 59/100\n",
      "470/470 [==============================] - 1s 2ms/step - loss: 0.6917 - accuracy: 0.5332\n",
      "Epoch 60/100\n",
      "460/470 [============================>.] - ETA: 0s - loss: 0.6915 - accuracy: 0.5318\n",
      "Epoch 60: saving model to checkpoints/weights_2.60.hdf5\n",
      "470/470 [==============================] - 1s 2ms/step - loss: 0.6916 - accuracy: 0.5316\n",
      "Epoch 61/100\n",
      "470/470 [==============================] - 1s 2ms/step - loss: 0.6915 - accuracy: 0.5332\n",
      "Epoch 62/100\n",
      "470/470 [==============================] - 1s 2ms/step - loss: 0.6913 - accuracy: 0.5324\n",
      "Epoch 63/100\n",
      "470/470 [==============================] - 1s 2ms/step - loss: 0.6917 - accuracy: 0.5284\n",
      "Epoch 64/100\n"
     ]
    },
    {
     "name": "stdout",
     "output_type": "stream",
     "text": [
      "470/470 [==============================] - 1s 2ms/step - loss: 0.6915 - accuracy: 0.5332\n",
      "Epoch 65/100\n",
      "456/470 [============================>.] - ETA: 0s - loss: 0.6914 - accuracy: 0.5340\n",
      "Epoch 65: saving model to checkpoints/weights_2.65.hdf5\n",
      "470/470 [==============================] - 1s 2ms/step - loss: 0.6915 - accuracy: 0.5332\n",
      "Epoch 66/100\n",
      "470/470 [==============================] - 1s 2ms/step - loss: 0.6917 - accuracy: 0.5316\n",
      "Epoch 67/100\n",
      "470/470 [==============================] - 1s 2ms/step - loss: 0.6918 - accuracy: 0.5298\n",
      "Epoch 68/100\n",
      "470/470 [==============================] - 1s 2ms/step - loss: 0.6915 - accuracy: 0.5319\n",
      "Epoch 69/100\n",
      "470/470 [==============================] - 1s 2ms/step - loss: 0.6917 - accuracy: 0.5332\n",
      "Epoch 70/100\n",
      "453/470 [===========================>..] - ETA: 0s - loss: 0.6915 - accuracy: 0.5320\n",
      "Epoch 70: saving model to checkpoints/weights_2.70.hdf5\n",
      "470/470 [==============================] - 1s 2ms/step - loss: 0.6916 - accuracy: 0.5310\n",
      "Epoch 71/100\n",
      "470/470 [==============================] - 1s 2ms/step - loss: 0.6920 - accuracy: 0.5288\n",
      "Epoch 72/100\n",
      "470/470 [==============================] - 1s 2ms/step - loss: 0.6917 - accuracy: 0.5296\n",
      "Epoch 73/100\n",
      "470/470 [==============================] - 1s 2ms/step - loss: 0.6915 - accuracy: 0.5332\n",
      "Epoch 74/100\n",
      "470/470 [==============================] - 1s 2ms/step - loss: 0.6913 - accuracy: 0.5307\n",
      "Epoch 75/100\n",
      "456/470 [============================>.] - ETA: 0s - loss: 0.6918 - accuracy: 0.5328\n",
      "Epoch 75: saving model to checkpoints/weights_2.75.hdf5\n",
      "470/470 [==============================] - 1s 2ms/step - loss: 0.6918 - accuracy: 0.5332\n",
      "Epoch 76/100\n",
      "470/470 [==============================] - 1s 2ms/step - loss: 0.6916 - accuracy: 0.5307\n",
      "Epoch 77/100\n",
      "470/470 [==============================] - 1s 2ms/step - loss: 0.6914 - accuracy: 0.5332\n",
      "Epoch 78/100\n",
      "470/470 [==============================] - 1s 2ms/step - loss: 0.6916 - accuracy: 0.5315\n",
      "Epoch 79/100\n",
      "470/470 [==============================] - 1s 2ms/step - loss: 0.6916 - accuracy: 0.5310\n",
      "Epoch 80/100\n",
      "455/470 [============================>.] - ETA: 0s - loss: 0.6917 - accuracy: 0.5330\n",
      "Epoch 80: saving model to checkpoints/weights_2.80.hdf5\n",
      "470/470 [==============================] - 1s 2ms/step - loss: 0.6917 - accuracy: 0.5332\n",
      "Epoch 81/100\n",
      "470/470 [==============================] - 1s 2ms/step - loss: 0.6915 - accuracy: 0.5311\n",
      "Epoch 82/100\n",
      "470/470 [==============================] - 1s 2ms/step - loss: 0.6915 - accuracy: 0.5332\n",
      "Epoch 83/100\n",
      "470/470 [==============================] - 1s 2ms/step - loss: 0.6917 - accuracy: 0.5319\n",
      "Epoch 84/100\n",
      "470/470 [==============================] - 1s 2ms/step - loss: 0.6915 - accuracy: 0.5318\n",
      "Epoch 85/100\n",
      "456/470 [============================>.] - ETA: 0s - loss: 0.6913 - accuracy: 0.5330\n",
      "Epoch 85: saving model to checkpoints/weights_2.85.hdf5\n",
      "470/470 [==============================] - 1s 2ms/step - loss: 0.6913 - accuracy: 0.5328\n",
      "Epoch 86/100\n",
      "470/470 [==============================] - 1s 2ms/step - loss: 0.6914 - accuracy: 0.5312\n",
      "Epoch 87/100\n",
      "470/470 [==============================] - 1s 2ms/step - loss: 0.6917 - accuracy: 0.5332\n",
      "Epoch 88/100\n",
      "470/470 [==============================] - 1s 2ms/step - loss: 0.6914 - accuracy: 0.5312\n",
      "Epoch 89/100\n",
      "470/470 [==============================] - 1s 2ms/step - loss: 0.6914 - accuracy: 0.5332\n",
      "Epoch 90/100\n",
      "452/470 [===========================>..] - ETA: 0s - loss: 0.6913 - accuracy: 0.5317\n",
      "Epoch 90: saving model to checkpoints/weights_2.90.hdf5\n",
      "470/470 [==============================] - 1s 2ms/step - loss: 0.6914 - accuracy: 0.5306\n",
      "Epoch 91/100\n",
      "470/470 [==============================] - 1s 2ms/step - loss: 0.6915 - accuracy: 0.5315\n",
      "Epoch 92/100\n",
      "470/470 [==============================] - 1s 2ms/step - loss: 0.6914 - accuracy: 0.5332\n",
      "Epoch 93/100\n",
      "470/470 [==============================] - 1s 2ms/step - loss: 0.6914 - accuracy: 0.5332\n",
      "Epoch 94/100\n",
      "470/470 [==============================] - 1s 2ms/step - loss: 0.6914 - accuracy: 0.5314\n",
      "Epoch 95/100\n",
      "453/470 [===========================>..] - ETA: 0s - loss: 0.6913 - accuracy: 0.5324\n",
      "Epoch 95: saving model to checkpoints/weights_2.95.hdf5\n",
      "470/470 [==============================] - 1s 2ms/step - loss: 0.6915 - accuracy: 0.5315\n",
      "Epoch 96/100\n",
      "470/470 [==============================] - 1s 2ms/step - loss: 0.6913 - accuracy: 0.5332\n",
      "Epoch 97/100\n",
      "470/470 [==============================] - 1s 2ms/step - loss: 0.6912 - accuracy: 0.5332\n",
      "Epoch 98/100\n",
      "470/470 [==============================] - 1s 2ms/step - loss: 0.6914 - accuracy: 0.5332\n",
      "Epoch 99/100\n",
      "470/470 [==============================] - 1s 2ms/step - loss: 0.6914 - accuracy: 0.5307\n",
      "Epoch 100/100\n",
      "450/470 [===========================>..] - ETA: 0s - loss: 0.6914 - accuracy: 0.5331\n",
      "Epoch 100: saving model to checkpoints/weights_2.100.hdf5\n",
      "470/470 [==============================] - 1s 2ms/step - loss: 0.6914 - accuracy: 0.5332\n"
     ]
    }
   ],
   "source": [
    "# train the model\n",
    "fit_model = nn.fit(X_train, y_train, epochs=100, callbacks=[cp_callback])"
   ]
  },
  {
   "cell_type": "code",
   "execution_count": 28,
   "metadata": {},
   "outputs": [
    {
     "name": "stdout",
     "output_type": "stream",
     "text": [
      "157/157 - 0s - loss: 0.6912 - accuracy: 0.5318 - 307ms/epoch - 2ms/step\n",
      "Loss: 0.691187858581543, Accuracy: 0.5318299531936646\n"
     ]
    }
   ],
   "source": [
    "# evaluate the model using the test data\n",
    "model_loss, model_accuracy = nn.evaluate(X_test_scaled,y_test,verbose=2)\n",
    "print(f\"Loss: {model_loss}, Accuracy: {model_accuracy}\")"
   ]
  },
  {
   "cell_type": "code",
   "execution_count": 29,
   "metadata": {},
   "outputs": [],
   "source": [
    "# export the model to HDF5 file\n",
    "nn.save(\"AlphabetSoupCharity_Optimization_2.h5\")"
   ]
  }
 ],
 "metadata": {
  "kernelspec": {
   "display_name": "Python 3 (ipykernel)",
   "language": "python",
   "name": "python3"
  },
  "language_info": {
   "codemirror_mode": {
    "name": "ipython",
    "version": 3
   },
   "file_extension": ".py",
   "mimetype": "text/x-python",
   "name": "python",
   "nbconvert_exporter": "python",
   "pygments_lexer": "ipython3",
   "version": "3.7.13"
  }
 },
 "nbformat": 4,
 "nbformat_minor": 2
}
